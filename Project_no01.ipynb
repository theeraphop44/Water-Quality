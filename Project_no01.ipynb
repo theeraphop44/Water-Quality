{
  "cells": [
    {
      "cell_type": "markdown",
      "metadata": {
        "id": "b6nLb43F-_Tw"
      },
      "source": [
        "#Importing Libraries"
      ]
    },
    {
      "cell_type": "code",
      "execution_count": 1,
      "metadata": {
        "id": "xv4MJm5L-78t"
      },
      "outputs": [],
      "source": [
        "import numpy as np\n",
        "import pandas as pd\n",
        "import matplotlib.pyplot as plt\n",
        "import seaborn as sns\n",
        "from sklearn.model_selection import train_test_split\n",
        "%matplotlib inline"
      ]
    },
    {
      "cell_type": "markdown",
      "metadata": {
        "id": "7788454e"
      },
      "source": [
        "# Loading the Data Set"
      ]
    },
    {
      "cell_type": "code",
      "execution_count": 2,
      "metadata": {
        "id": "ICD1Fkv2_SPM"
      },
      "outputs": [],
      "source": [
        "df= pd.read_csv(\"drinking_water_potability.csv\")"
      ]
    },
    {
      "cell_type": "code",
      "execution_count": 3,
      "metadata": {
        "colab": {
          "base_uri": "https://localhost:8080/",
          "height": 206
        },
        "id": "UvTbB2PB_U6U",
        "outputId": "eebef75a-8f04-4921-b872-a5e607fd3583"
      },
      "outputs": [
        {
          "data": {
            "text/html": [
              "<div>\n",
              "<style scoped>\n",
              "    .dataframe tbody tr th:only-of-type {\n",
              "        vertical-align: middle;\n",
              "    }\n",
              "\n",
              "    .dataframe tbody tr th {\n",
              "        vertical-align: top;\n",
              "    }\n",
              "\n",
              "    .dataframe thead th {\n",
              "        text-align: right;\n",
              "    }\n",
              "</style>\n",
              "<table border=\"1\" class=\"dataframe\">\n",
              "  <thead>\n",
              "    <tr style=\"text-align: right;\">\n",
              "      <th></th>\n",
              "      <th>ph</th>\n",
              "      <th>Hardness</th>\n",
              "      <th>Solids</th>\n",
              "      <th>Chloramines</th>\n",
              "      <th>Sulfate</th>\n",
              "      <th>Conductivity</th>\n",
              "      <th>Organic_carbon</th>\n",
              "      <th>Trihalomethanes</th>\n",
              "      <th>Turbidity</th>\n",
              "      <th>Potability</th>\n",
              "    </tr>\n",
              "  </thead>\n",
              "  <tbody>\n",
              "    <tr>\n",
              "      <th>0</th>\n",
              "      <td>NaN</td>\n",
              "      <td>204.890456</td>\n",
              "      <td>20791.31898</td>\n",
              "      <td>7.300212</td>\n",
              "      <td>368.516441</td>\n",
              "      <td>564.308654</td>\n",
              "      <td>10.379783</td>\n",
              "      <td>86.990970</td>\n",
              "      <td>2.963135</td>\n",
              "      <td>0</td>\n",
              "    </tr>\n",
              "    <tr>\n",
              "      <th>1</th>\n",
              "      <td>3.716080</td>\n",
              "      <td>129.422921</td>\n",
              "      <td>18630.05786</td>\n",
              "      <td>6.635246</td>\n",
              "      <td>NaN</td>\n",
              "      <td>592.885359</td>\n",
              "      <td>15.180013</td>\n",
              "      <td>56.329076</td>\n",
              "      <td>4.500656</td>\n",
              "      <td>0</td>\n",
              "    </tr>\n",
              "    <tr>\n",
              "      <th>2</th>\n",
              "      <td>8.099124</td>\n",
              "      <td>224.236259</td>\n",
              "      <td>19909.54173</td>\n",
              "      <td>9.275884</td>\n",
              "      <td>NaN</td>\n",
              "      <td>418.606213</td>\n",
              "      <td>16.868637</td>\n",
              "      <td>66.420093</td>\n",
              "      <td>3.055934</td>\n",
              "      <td>0</td>\n",
              "    </tr>\n",
              "    <tr>\n",
              "      <th>3</th>\n",
              "      <td>8.316766</td>\n",
              "      <td>214.373394</td>\n",
              "      <td>22018.41744</td>\n",
              "      <td>8.059332</td>\n",
              "      <td>356.886136</td>\n",
              "      <td>363.266516</td>\n",
              "      <td>18.436525</td>\n",
              "      <td>100.341674</td>\n",
              "      <td>4.628771</td>\n",
              "      <td>0</td>\n",
              "    </tr>\n",
              "    <tr>\n",
              "      <th>4</th>\n",
              "      <td>9.092223</td>\n",
              "      <td>181.101509</td>\n",
              "      <td>17978.98634</td>\n",
              "      <td>6.546600</td>\n",
              "      <td>310.135738</td>\n",
              "      <td>398.410813</td>\n",
              "      <td>11.558279</td>\n",
              "      <td>31.997993</td>\n",
              "      <td>4.075075</td>\n",
              "      <td>0</td>\n",
              "    </tr>\n",
              "  </tbody>\n",
              "</table>\n",
              "</div>"
            ],
            "text/plain": [
              "         ph    Hardness       Solids  Chloramines     Sulfate  Conductivity  \\\n",
              "0       NaN  204.890456  20791.31898     7.300212  368.516441    564.308654   \n",
              "1  3.716080  129.422921  18630.05786     6.635246         NaN    592.885359   \n",
              "2  8.099124  224.236259  19909.54173     9.275884         NaN    418.606213   \n",
              "3  8.316766  214.373394  22018.41744     8.059332  356.886136    363.266516   \n",
              "4  9.092223  181.101509  17978.98634     6.546600  310.135738    398.410813   \n",
              "\n",
              "   Organic_carbon  Trihalomethanes  Turbidity  Potability  \n",
              "0       10.379783        86.990970   2.963135           0  \n",
              "1       15.180013        56.329076   4.500656           0  \n",
              "2       16.868637        66.420093   3.055934           0  \n",
              "3       18.436525       100.341674   4.628771           0  \n",
              "4       11.558279        31.997993   4.075075           0  "
            ]
          },
          "execution_count": 3,
          "metadata": {},
          "output_type": "execute_result"
        }
      ],
      "source": [
        "df.head()"
      ]
    },
    {
      "cell_type": "code",
      "execution_count": 4,
      "metadata": {
        "colab": {
          "base_uri": "https://localhost:8080/"
        },
        "id": "FNhwXd0e_WRG",
        "outputId": "9e6597ea-c10e-4aef-8795-2ba85659324b"
      },
      "outputs": [
        {
          "data": {
            "text/plain": [
              "(3276, 10)"
            ]
          },
          "execution_count": 4,
          "metadata": {},
          "output_type": "execute_result"
        }
      ],
      "source": [
        "df.shape"
      ]
    },
    {
      "cell_type": "code",
      "execution_count": 5,
      "metadata": {
        "colab": {
          "base_uri": "https://localhost:8080/"
        },
        "id": "zZBNjcQ__X9r",
        "outputId": "ce320b3e-f76b-44b9-cf08-81bcd967a858"
      },
      "outputs": [
        {
          "name": "stdout",
          "output_type": "stream",
          "text": [
            "<class 'pandas.core.frame.DataFrame'>\n",
            "RangeIndex: 3276 entries, 0 to 3275\n",
            "Data columns (total 10 columns):\n",
            " #   Column           Non-Null Count  Dtype  \n",
            "---  ------           --------------  -----  \n",
            " 0   ph               2785 non-null   float64\n",
            " 1   Hardness         3276 non-null   float64\n",
            " 2   Solids           3276 non-null   float64\n",
            " 3   Chloramines      3276 non-null   float64\n",
            " 4   Sulfate          2495 non-null   float64\n",
            " 5   Conductivity     3276 non-null   float64\n",
            " 6   Organic_carbon   3276 non-null   float64\n",
            " 7   Trihalomethanes  3114 non-null   float64\n",
            " 8   Turbidity        3276 non-null   float64\n",
            " 9   Potability       3276 non-null   int64  \n",
            "dtypes: float64(9), int64(1)\n",
            "memory usage: 256.1 KB\n"
          ]
        }
      ],
      "source": [
        "df.info()"
      ]
    },
    {
      "cell_type": "code",
      "execution_count": 6,
      "metadata": {
        "colab": {
          "base_uri": "https://localhost:8080/"
        },
        "id": "dYReQ_Qj_ZXh",
        "outputId": "cbeed59c-cf63-4154-fea8-a2999d547491"
      },
      "outputs": [
        {
          "name": "stdout",
          "output_type": "stream",
          "text": [
            "<class 'pandas.core.frame.DataFrame'>\n",
            "RangeIndex: 3276 entries, 0 to 3275\n",
            "Data columns (total 10 columns):\n",
            " #   Column           Non-Null Count  Dtype  \n",
            "---  ------           --------------  -----  \n",
            " 0   ph               2785 non-null   float64\n",
            " 1   Hardness         3276 non-null   float64\n",
            " 2   Solids           3276 non-null   float64\n",
            " 3   Chloramines      3276 non-null   float64\n",
            " 4   Sulfate          2495 non-null   float64\n",
            " 5   Conductivity     3276 non-null   float64\n",
            " 6   Organic_carbon   3276 non-null   float64\n",
            " 7   Trihalomethanes  3114 non-null   float64\n",
            " 8   Turbidity        3276 non-null   float64\n",
            " 9   Potability       3276 non-null   int64  \n",
            "dtypes: float64(9), int64(1)\n",
            "memory usage: 256.1 KB\n"
          ]
        }
      ],
      "source": [
        "df.info()"
      ]
    },
    {
      "cell_type": "markdown",
      "metadata": {
        "id": "719f6c67"
      },
      "source": [
        "# Data Analysis"
      ]
    },
    {
      "cell_type": "code",
      "execution_count": 7,
      "metadata": {
        "id": "pFbANhe4_zYd"
      },
      "outputs": [
        {
          "data": {
            "text/plain": [
              "Potability\n",
              "0    1998\n",
              "1    1278\n",
              "Name: count, dtype: int64"
            ]
          },
          "execution_count": 7,
          "metadata": {},
          "output_type": "execute_result"
        },
        {
          "data": {
            "image/png": "[encoded data removed]",
            "text/plain": [
              "<Figure size 640x480 with 1 Axes>"
            ]
          },
          "metadata": {},
          "output_type": "display_data"
        }
      ],
      "source": [
        "sns.countplot(data=df,x=df.Potability)\n",
        "df.Potability.value_counts()"
      ]
    },
    {
      "cell_type": "code",
      "execution_count": 8,
      "metadata": {},
      "outputs": [
        {
          "data": {
            "text/plain": [
              "ph                 491\n",
              "Hardness             0\n",
              "Solids               0\n",
              "Chloramines          0\n",
              "Sulfate            781\n",
              "Conductivity         0\n",
              "Organic_carbon       0\n",
              "Trihalomethanes    162\n",
              "Turbidity            0\n",
              "Potability           0\n",
              "dtype: int64"
            ]
          },
          "execution_count": 8,
          "metadata": {},
          "output_type": "execute_result"
        }
      ],
      "source": [
        "df.isnull().sum()"
      ]
    },
    {
      "cell_type": "code",
      "execution_count": 9,
      "metadata": {
        "colab": {
          "base_uri": "https://localhost:8080/"
        },
        "id": "9Zufm7OW_1MZ",
        "outputId": "088ad175-aa27-4248-b59b-7c885664af61"
      },
      "outputs": [
        {
          "name": "stdout",
          "output_type": "stream",
          "text": [
            "ph                1\n",
            "Hardness          2\n",
            "Solids            3\n",
            "Chloramines       4\n",
            "Sulfate           5\n",
            "Conductivity      6\n",
            "Organic_carbon    7\n",
            "Trihalomethanes   8\n",
            "Turbidity         9\n",
            "Potability        10\n",
            "Exit              0\n",
            "['ph', 'Sulfate', 'Trihalomethanes']\n"
          ]
        }
      ],
      "source": [
        "nul = []\n",
        "ext = 1\n",
        "print('ph                1')\n",
        "print('Hardness          2')\n",
        "print('Solids            3')\n",
        "print('Chloramines       4')\n",
        "print('Sulfate           5')\n",
        "print('Conductivity      6')\n",
        "print('Organic_carbon    7')\n",
        "print('Trihalomethanes   8')\n",
        "print('Turbidity         9')\n",
        "print('Potability        10')\n",
        "print('Exit              0')\n",
        "while ext != 0:\n",
        "    ext = int(input('Enter feture null for replace'))\n",
        "    if ext == 1:\n",
        "        nul.append('ph')\n",
        "    elif ext == 2:\n",
        "        nul.append('Hardness')\n",
        "    elif ext == 3:\n",
        "        nul.append('Solids')\n",
        "    elif ext == 4:\n",
        "        nul.append('Chloramines')\n",
        "    elif ext == 5:\n",
        "        nul.append('Sulfate')\n",
        "    elif ext == 6:\n",
        "        nul.append('Conductivity')\n",
        "    elif ext == 7:\n",
        "        nul.append('Organic_carbon')\n",
        "    elif ext == 8:\n",
        "        nul.append('Trihalomethanes')\n",
        "    elif ext == 9:\n",
        "        nul.append('Turbidity')\n",
        "    elif ext == 10:\n",
        "        nul.append('Potability')\n",
        "        \n",
        "print(nul)"
      ]
    },
    {
      "cell_type": "code",
      "execution_count": 10,
      "metadata": {},
      "outputs": [],
      "source": [
        "for ty in nul :\n",
        "    if ty == 'ph':\n",
        "        df['ph'] = df['ph'].replace(np.nan, df.ph.mean())\n",
        "    elif ty == 'Hardness':\n",
        "        df['Hardness'] = df['Hardness'].replace(np.nan, df.Hardness.mean())\n",
        "    elif ty == 'Solids':\n",
        "        df['Solids'] = df['Solids'].replace(np.nan, df.Solids.mean())\n",
        "    elif ty == 'Chloramines':\n",
        "        df['Chloramines'] = df['Chloramines'].replace(np.nan, df.Chloramines.mean())\n",
        "    elif ty == 'Sulfate':\n",
        "        df['Sulfate'] = df['Sulfate'].replace(np.nan, df.Sulfate.mean())\n",
        "    elif ty == 'Conductivity':\n",
        "        df['Conductivity'] = df['Conductivity'].replace(np.nan, df.Conductivity.mean())\n",
        "    elif ty == 'Organic_carbon':\n",
        "        df['Organic_carbon'] = df['Organic_carbon'].replace(np.nan, df.Organic_carbon.mean())\n",
        "    elif ty == 'Trihalomethanes':\n",
        "        df['Trihalomethanes'] = df['Trihalomethanes'].replace(np.nan,df.Trihalomethanes.mean())\n",
        "    elif ty == 'Turbidity':\n",
        "        df['Turbidity'] = df['Turbidity'].replace(np.nan,df.Turbidity.mean())\n",
        "    elif ty == 'Potability':\n",
        "        df['Potability'] = df['Potability'].replace(np.nan, df.Potability.mean())\n"
      ]
    },
    {
      "cell_type": "code",
      "execution_count": 11,
      "metadata": {},
      "outputs": [
        {
          "data": {
            "text/plain": [
              "ph                 0\n",
              "Hardness           0\n",
              "Solids             0\n",
              "Chloramines        0\n",
              "Sulfate            0\n",
              "Conductivity       0\n",
              "Organic_carbon     0\n",
              "Trihalomethanes    0\n",
              "Turbidity          0\n",
              "Potability         0\n",
              "dtype: int64"
            ]
          },
          "execution_count": 11,
          "metadata": {},
          "output_type": "execute_result"
        }
      ],
      "source": [
        "df.isnull().sum()"
      ]
    },
    {
      "cell_type": "code",
      "execution_count": 12,
      "metadata": {},
      "outputs": [
        {
          "name": "stdout",
          "output_type": "stream",
          "text": [
            "            ph    Hardness       Solids  Chloramines     Sulfate  \\\n",
            "0     7.080795  204.890456  20791.31898     7.300212  368.516441   \n",
            "1     3.716080  129.422921  18630.05786     6.635246  333.775777   \n",
            "2     8.099124  224.236259  19909.54173     9.275884  333.775777   \n",
            "3     8.316766  214.373394  22018.41744     8.059332  356.886136   \n",
            "4     9.092223  181.101509  17978.98634     6.546600  310.135738   \n",
            "...        ...         ...          ...          ...         ...   \n",
            "3271  4.668102  193.681736  47580.99160     7.166639  359.948574   \n",
            "3272  7.808856  193.553212  17329.80216     8.061362  333.775777   \n",
            "3273  9.419510  175.762646  33155.57822     7.350233  333.775777   \n",
            "3274  5.126763  230.603758  11983.86938     6.303357  333.775777   \n",
            "3275  7.874671  195.102299  17404.17706     7.509306  333.775777   \n",
            "\n",
            "      Conductivity  Organic_carbon  Trihalomethanes  Turbidity  \n",
            "0       564.308654       10.379783        86.990970   2.963135  \n",
            "1       592.885359       15.180013        56.329076   4.500656  \n",
            "2       418.606213       16.868637        66.420093   3.055934  \n",
            "3       363.266516       18.436525       100.341674   4.628771  \n",
            "4       398.410813       11.558279        31.997993   4.075075  \n",
            "...            ...             ...              ...        ...  \n",
            "3271    526.424171       13.894419        66.687695   4.435821  \n",
            "3272    392.449580       19.903225        66.396293   2.798243  \n",
            "3273    432.044783       11.039070        69.845400   3.298875  \n",
            "3274    402.883113       11.168946        77.488213   4.708658  \n",
            "3275    327.459761       16.140368        78.698446   2.309149  \n",
            "\n",
            "[3276 rows x 9 columns]\n",
            "0       0\n",
            "1       0\n",
            "2       0\n",
            "3       0\n",
            "4       0\n",
            "       ..\n",
            "3271    1\n",
            "3272    1\n",
            "3273    1\n",
            "3274    1\n",
            "3275    1\n",
            "Name: Potability, Length: 3276, dtype: int64\n"
          ]
        }
      ],
      "source": [
        "x = df.drop(['Potability'],axis=1)\n",
        "y =df.Potability\n",
        "print(x)\n",
        "print(y)"
      ]
    },
    {
      "cell_type": "code",
      "execution_count": null,
      "metadata": {},
      "outputs": [],
      "source": [
        "from imblearn.under_sampling import RandomUnderSampler\n",
        "from imblearn.over_sampling  import  RandomOverSampler\n",
        "i=0\n",
        "if i == 'null':\n",
        "    x_kflod = x\n",
        "    y_kflod = y\n",
        "elif i ==\"RandomUnderSampler\":\n",
        "    under = RandomUnderSampler(sampling_strategy=1)\n",
        "    x_kflod, y_kflod = under.fit_resample(x, y)\n",
        "elif i ==\"RandomUnderSampler\":\n",
        "    under = RandomUnderSampler(sampling_strategy=1)\n",
        "    x_kflod, y_kflod = under.fit_resample(x, y)"
      ]
    },
    {
      "cell_type": "code",
      "execution_count": 13,
      "metadata": {},
      "outputs": [],
      "source": [
        "from imblearn.under_sampling import RandomUnderSampler\n",
        "under = RandomUnderSampler(sampling_strategy=1)\n",
        "x_smote, y_smote = under.fit_resample(x, y)"
      ]
    },
    {
      "cell_type": "code",
      "execution_count": 21,
      "metadata": {},
      "outputs": [
        {
          "data": {
            "text/plain": [
              "<Axes: xlabel='Potability', ylabel='count'>"
            ]
          },
          "execution_count": 21,
          "metadata": {},
          "output_type": "execute_result"
        },
        {
          "data": {
            "image/png": "[encoded data removed]",
            "text/plain": [
              "<Figure size 640x480 with 1 Axes>"
            ]
          },
          "metadata": {},
          "output_type": "display_data"
        }
      ],
      "source": [
        "sns.countplot(data=df,x=y_smote)"
      ]
    },
    {
      "cell_type": "code",
      "execution_count": 22,
      "metadata": {},
      "outputs": [],
      "source": [
        "from imblearn.over_sampling  import  RandomOverSampler\n",
        "oversample = RandomOverSampler(sampling_strategy=1)\n",
        "x_over, y_over = oversample.fit_resample(x, y)"
      ]
    },
    {
      "cell_type": "code",
      "execution_count": 23,
      "metadata": {},
      "outputs": [
        {
          "data": {
            "text/plain": [
              "<Axes: xlabel='Potability', ylabel='count'>"
            ]
          },
          "execution_count": 23,
          "metadata": {},
          "output_type": "execute_result"
        },
        {
          "data": {
            "image/png": "[encoded data removed]",
            "text/plain": [
              "<Figure size 640x480 with 1 Axes>"
            ]
          },
          "metadata": {},
          "output_type": "display_data"
        }
      ],
      "source": [
        "sns.countplot(data=df,x= y_over)"
      ]
    },
    {
      "cell_type": "code",
      "execution_count": 62,
      "metadata": {},
      "outputs": [
        {
          "name": "stdout",
          "output_type": "stream",
          "text": [
            "[[7.08079450e+00 2.04890456e+02 2.07913190e+04 ... 1.03797831e+01\n",
            "  8.69909705e+01 2.96313538e+00]\n",
            " [3.71608007e+00 1.29422921e+02 1.86300579e+04 ... 1.51800131e+01\n",
            "  5.63290763e+01 4.50065627e+00]\n",
            " [8.09912419e+00 2.24236259e+02 1.99095417e+04 ... 1.68686369e+01\n",
            "  6.64200925e+01 3.05593375e+00]\n",
            " ...\n",
            " [7.08079450e+00 1.19885810e+02 2.23312379e+04 ... 1.66428154e+01\n",
            "  6.26470910e+01 4.65939453e+00]\n",
            " [5.05727055e+00 1.55487725e+02 1.90039639e+04 ... 1.57724380e+01\n",
            "  9.71990769e+01 4.43227087e+00]\n",
            " [5.83054205e+00 1.65467025e+02 3.00212571e+04 ... 1.66666135e+01\n",
            "  6.95802530e+01 5.19211665e+00]]\n"
          ]
        }
      ],
      "source": [
        "from sklearn.model_selection import KFold\n",
        "\n",
        "# สมมติข้อมูลตัวอย่าง\n",
        "X = np.array(x)\n",
        "Y = np.array(y)\n",
        "kf = KFold(n_splits=5)\n",
        "for train_index, test_index in kf.split(x):\n",
        "    x_train, x_test = X[train_index], X[test_index]\n",
        "    y_train, y_test = Y[train_index], Y[test_index]\n",
        "\n",
        "print(x_train)\n",
        "\n"
      ]
    },
    {
      "cell_type": "markdown",
      "metadata": {},
      "source": [
        "#Model Development\n",
        "#We will use the following models:\n",
        "- Logistic Regression\n",
        "- SVM\n",
        "- Random Forest"
      ]
    },
    {
      "cell_type": "code",
      "execution_count": 59,
      "metadata": {},
      "outputs": [],
      "source": [
        "from sklearn.linear_model import LogisticRegression\n",
        "from sklearn.svm import SVC\n",
        "from sklearn.ensemble import RandomForestClassifier\n",
        "from sklearn.linear_model import SGDClassifier\n",
        "from sklearn import linear_model\n",
        "from sklearn.metrics import accuracy_score, confusion_matrix,classification_report\n",
        "from sklearn.metrics import classification_report, confusion_matrix, roc_auc_score"
      ]
    },
    {
      "cell_type": "code",
      "execution_count": 55,
      "metadata": {},
      "outputs": [
        {
          "name": "stdout",
          "output_type": "stream",
          "text": [
            "accuracy score\n",
            "-------------------------------------------------------\n",
            "test data accuracy score: 51.45038167938931\n",
            "train data accuracy score: 63.37275848912629\n"
          ]
        }
      ],
      "source": [
        "lr = LogisticRegression()\n",
        "lr.fit(x_train, y_train)\n",
        "Y_train_hat = lr.predict(x_train)\n",
        "Y_test_hat = lr.predict(x_test)\n",
        "\n",
        "print('accuracy score')\n",
        "print('-------------------------------------------------------')\n",
        "print(\"test data accuracy score:\",accuracy_score(y_test, Y_test_hat)*100)\n",
        "print(\"train data accuracy score:\",accuracy_score(y_train, Y_train_hat)*100)"
      ]
    },
    {
      "cell_type": "code",
      "execution_count": 46,
      "metadata": {},
      "outputs": [
        {
          "name": "stdout",
          "output_type": "stream",
          "text": [
            "Test performance\n",
            "-------------------------------------------------------\n",
            "              precision    recall  f1-score   support\n",
            "\n",
            "           0       0.51      1.00      0.68       337\n",
            "           1       0.00      0.00      0.00       318\n",
            "\n",
            "    accuracy                           0.51       655\n",
            "   macro avg       0.26      0.50      0.34       655\n",
            "weighted avg       0.26      0.51      0.35       655\n",
            "\n",
            "train performance\n",
            "-------------------------------------------------------\n",
            "              precision    recall  f1-score   support\n",
            "\n",
            "           0       0.63      1.00      0.78      1661\n",
            "           1       0.00      0.00      0.00       960\n",
            "\n",
            "    accuracy                           0.63      2621\n",
            "   macro avg       0.32      0.50      0.39      2621\n",
            "weighted avg       0.40      0.63      0.49      2621\n",
            "\n"
          ]
        },
        {
          "name": "stderr",
          "output_type": "stream",
          "text": [
            "c:\\Users\\Administrator\\AppData\\Local\\Programs\\Python\\Python310\\lib\\site-packages\\sklearn\\metrics\\_classification.py:1469: UndefinedMetricWarning: Precision and F-score are ill-defined and being set to 0.0 in labels with no predicted samples. Use `zero_division` parameter to control this behavior.\n",
            "  _warn_prf(average, modifier, msg_start, len(result))\n",
            "c:\\Users\\Administrator\\AppData\\Local\\Programs\\Python\\Python310\\lib\\site-packages\\sklearn\\metrics\\_classification.py:1469: UndefinedMetricWarning: Precision and F-score are ill-defined and being set to 0.0 in labels with no predicted samples. Use `zero_division` parameter to control this behavior.\n",
            "  _warn_prf(average, modifier, msg_start, len(result))\n",
            "c:\\Users\\Administrator\\AppData\\Local\\Programs\\Python\\Python310\\lib\\site-packages\\sklearn\\metrics\\_classification.py:1469: UndefinedMetricWarning: Precision and F-score are ill-defined and being set to 0.0 in labels with no predicted samples. Use `zero_division` parameter to control this behavior.\n",
            "  _warn_prf(average, modifier, msg_start, len(result))\n",
            "c:\\Users\\Administrator\\AppData\\Local\\Programs\\Python\\Python310\\lib\\site-packages\\sklearn\\metrics\\_classification.py:1469: UndefinedMetricWarning: Precision and F-score are ill-defined and being set to 0.0 in labels with no predicted samples. Use `zero_division` parameter to control this behavior.\n",
            "  _warn_prf(average, modifier, msg_start, len(result))\n",
            "c:\\Users\\Administrator\\AppData\\Local\\Programs\\Python\\Python310\\lib\\site-packages\\sklearn\\metrics\\_classification.py:1469: UndefinedMetricWarning: Precision and F-score are ill-defined and being set to 0.0 in labels with no predicted samples. Use `zero_division` parameter to control this behavior.\n",
            "  _warn_prf(average, modifier, msg_start, len(result))\n",
            "c:\\Users\\Administrator\\AppData\\Local\\Programs\\Python\\Python310\\lib\\site-packages\\sklearn\\metrics\\_classification.py:1469: UndefinedMetricWarning: Precision and F-score are ill-defined and being set to 0.0 in labels with no predicted samples. Use `zero_division` parameter to control this behavior.\n",
            "  _warn_prf(average, modifier, msg_start, len(result))\n"
          ]
        }
      ],
      "source": [
        "print('Test performance')\n",
        "print('-------------------------------------------------------')\n",
        "print(classification_report(y_test, Y_test_hat))\n",
        "\n",
        "print('train performance')\n",
        "print('-------------------------------------------------------')\n",
        "print(classification_report(y_train, Y_train_hat))"
      ]
    },
    {
      "cell_type": "code",
      "execution_count": 47,
      "metadata": {},
      "outputs": [
        {
          "name": "stdout",
          "output_type": "stream",
          "text": [
            "Test Roc_auc score\n",
            "-------------------------------------------------------\n",
            "0.5\n",
            "\n",
            "train Roc_auc score\n",
            "-------------------------------------------------------\n",
            "0.5\n",
            "\n"
          ]
        }
      ],
      "source": [
        "print('Test Roc_auc score')\n",
        "print('-------------------------------------------------------')\n",
        "print(roc_auc_score(y_test, Y_test_hat))\n",
        "print('')\n",
        "\n",
        "print('train Roc_auc score')\n",
        "print('-------------------------------------------------------')\n",
        "print(roc_auc_score(y_train, Y_train_hat))\n",
        "print('')"
      ]
    },
    {
      "cell_type": "code",
      "execution_count": 48,
      "metadata": {},
      "outputs": [
        {
          "name": "stdout",
          "output_type": "stream",
          "text": [
            "Test Confusion matrix\n",
            "-------------------------------------------------------\n",
            "[[337   0]\n",
            " [318   0]]\n",
            "\n",
            "train Confusion matrix\n",
            "-------------------------------------------------------\n",
            "[[1661    0]\n",
            " [ 960    0]]\n",
            "\n"
          ]
        }
      ],
      "source": [
        "print('Test Confusion matrix')\n",
        "print('-------------------------------------------------------')\n",
        "print(confusion_matrix(y_test, Y_test_hat))\n",
        "print('')\n",
        "\n",
        "print('train Confusion matrix')\n",
        "print('-------------------------------------------------------')\n",
        "print(confusion_matrix(y_train, Y_train_hat))\n",
        "print('')"
      ]
    },
    {
      "cell_type": "code",
      "execution_count": 58,
      "metadata": {},
      "outputs": [
        {
          "name": "stdout",
          "output_type": "stream",
          "text": [
            "accuracy score\n",
            "-------------------------------------------------------\n",
            "test data accuracy score: 51.45038167938931\n",
            "train data accuracy score: 63.37275848912629\n"
          ]
        },
        {
          "name": "stderr",
          "output_type": "stream",
          "text": [
            "c:\\Users\\Administrator\\AppData\\Local\\Programs\\Python\\Python310\\lib\\site-packages\\sklearn\\linear_model\\_stochastic_gradient.py:713: ConvergenceWarning: Maximum number of iteration reached before convergence. Consider increasing max_iter to improve the fit.\n",
            "  warnings.warn(\n"
          ]
        }
      ],
      "source": [
        "clf = SGDClassifier(loss=\"hinge\", penalty=\"l2\", max_iter=5)\n",
        "clf.fit(x_train, y_train)\n",
        "Y_train_hat = lr.predict(x_train)\n",
        "Y_test_hat = lr.predict(x_test)\n",
        "\n",
        "print('accuracy score')\n",
        "print('-------------------------------------------------------')\n",
        "print(\"test data accuracy score:\",accuracy_score(y_test, Y_test_hat)*100)\n",
        "print(\"train data accuracy score:\",accuracy_score(y_train, Y_train_hat)*100)\n"
      ]
    },
    {
      "cell_type": "code",
      "execution_count": 60,
      "metadata": {},
      "outputs": [
        {
          "name": "stdout",
          "output_type": "stream",
          "text": [
            "accuracy score\n",
            "-------------------------------------------------------\n",
            "test data accuracy score: 51.45038167938931\n",
            "train data accuracy score: 63.37275848912629\n"
          ]
        }
      ],
      "source": [
        "reg = linear_model.BayesianRidge()\n",
        "reg.fit(x_train, y_train)\n",
        "Y_train_hat = lr.predict(x_train)\n",
        "Y_test_hat = lr.predict(x_test)\n",
        "\n",
        "print('accuracy score')\n",
        "print('-------------------------------------------------------')\n",
        "print(\"test data accuracy score:\",accuracy_score(y_test, Y_test_hat)*100)\n",
        "print(\"train data accuracy score:\",accuracy_score(y_train, Y_train_hat)*100)"
      ]
    }
  ],
  "metadata": {
    "colab": {
      "provenance": []
    },
    "kernelspec": {
      "display_name": "Python 3",
      "name": "python3"
    },
    "language_info": {
      "codemirror_mode": {
        "name": "ipython",
        "version": 3
      },
      "file_extension": ".py",
      "mimetype": "text/x-python",
      "name": "python",
      "nbconvert_exporter": "python",
      "pygments_lexer": "ipython3",
      "version": "3.10.10"
    }
  },
  "nbformat": 4,
  "nbformat_minor": 0
}
